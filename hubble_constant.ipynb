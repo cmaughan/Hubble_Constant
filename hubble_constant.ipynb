{
 "cells": [
  {
   "cell_type": "code",
   "execution_count": 1,
   "metadata": {},
   "outputs": [
    {
     "name": "stdout",
     "output_type": "stream",
     "text": [
      "Rows: 46\n"
     ]
    },
    {
     "data": {
      "application/vnd.plotly.v1+json": {
       "config": {
        "plotlyServerURL": "https://plot.ly"
       },
       "data": [
        {
         "hovertemplate": "Distance (MPC)=%{x}<br>Velocity (Km/s)=%{y}<extra></extra>",
         "legendgroup": "",
         "marker": {
          "color": "#636efa",
          "opacity": 0.5,
          "symbol": "circle"
         },
         "mode": "markers",
         "name": "",
         "orientation": "v",
         "showlegend": false,
         "type": "scatter",
         "x": [
          4.66,
          10.2,
          3.89,
          14.1,
          9.68,
          8.87,
          16.5,
          17,
          3.52,
          4.66,
          0.787,
          45.5,
          2.92,
          15.9,
          8.07,
          7.22,
          17.9,
          11.2,
          9.55,
          17,
          9.6,
          3.1,
          0.783,
          16.4,
          11.9,
          18,
          9.46,
          7.24,
          20,
          3.58,
          4.92,
          17.8,
          0.439,
          8.17,
          9.36,
          10.2,
          28.1,
          9.55,
          9.74,
          0.792,
          9.55,
          29.2,
          7.4,
          8.58
         ],
         "xaxis": "x",
         "y": [
          409,
          686,
          207,
          755,
          803,
          500,
          1284,
          617,
          269,
          308,
          213,
          3899,
          291,
          627,
          635,
          816,
          729,
          677,
          788,
          981,
          636,
          49,
          301,
          692,
          1282,
          946,
          799,
          241,
          1831,
          39,
          513,
          1110,
          55,
          1137,
          411,
          907,
          1434,
          721,
          888,
          179,
          1024,
          997,
          461,
          460
         ],
         "yaxis": "y"
        },
        {
         "line": {
          "color": "red"
         },
         "mode": "lines",
         "showlegend": false,
         "type": "scatter",
         "x": [
          4.66,
          10.2,
          3.89,
          14.1,
          9.68,
          8.87,
          16.5,
          17,
          3.52,
          4.66,
          0.787,
          45.5,
          2.92,
          15.9,
          8.07,
          7.22,
          17.9,
          11.2,
          9.55,
          17,
          9.6,
          3.1,
          0.783,
          16.4,
          11.9,
          18,
          9.46,
          7.24,
          20,
          3.58,
          4.92,
          17.8,
          0.439,
          8.17,
          9.36,
          10.2,
          28.1,
          9.55,
          9.74,
          0.792,
          9.55,
          29.2,
          7.4,
          8.58
         ],
         "y": [
          344.27818904891615,
          692.2586915023561,
          295.9126679497918,
          937.2269152511677,
          659.5962616691812,
          608.7182459675049,
          1087.9765914042825,
          1119.3827739361816,
          272.6720928761866,
          344.27818904891615,
          101.0058991568271,
          2909.53517825442,
          234.9846738379079,
          1050.2891723660039,
          558.4683539164668,
          505.0778436122386,
          1175.9139024935996,
          755.071056566154,
          651.4306542108876,
          1119.3827739361816,
          654.5712724640774,
          246.29089954939153,
          100.7546496965719,
          1081.6953548979027,
          799.0397121108125,
          1182.1951389999795,
          645.7775413551458,
          506.3340909135146,
          1307.8198691275752,
          276.4408347800145,
          360.6094039655036,
          1169.63266598722,
          79.14719611462544,
          564.7495904228465,
          639.4963048487659,
          692.2586915023561,
          1816.6000261443378,
          651.4306542108876,
          663.3650035730092,
          101.31996098214609,
          651.4306542108876,
          1885.6936277145153,
          516.3840693237222,
          590.5026600990036
         ]
        }
       ],
       "layout": {
        "annotations": [
         {
          "text": "62.8124x+51.57",
          "x": 10.977068181818181,
          "xref": "x",
          "y": 741.0681818181813,
          "yref": "y"
         }
        ],
        "legend": {
         "tracegroupgap": 0
        },
        "margin": {
         "t": 60
        },
        "showlegend": false,
        "template": {
         "data": {
          "bar": [
           {
            "error_x": {
             "color": "#2a3f5f"
            },
            "error_y": {
             "color": "#2a3f5f"
            },
            "marker": {
             "line": {
              "color": "#E5ECF6",
              "width": 0.5
             },
             "pattern": {
              "fillmode": "overlay",
              "size": 10,
              "solidity": 0.2
             }
            },
            "type": "bar"
           }
          ],
          "barpolar": [
           {
            "marker": {
             "line": {
              "color": "#E5ECF6",
              "width": 0.5
             },
             "pattern": {
              "fillmode": "overlay",
              "size": 10,
              "solidity": 0.2
             }
            },
            "type": "barpolar"
           }
          ],
          "carpet": [
           {
            "aaxis": {
             "endlinecolor": "#2a3f5f",
             "gridcolor": "white",
             "linecolor": "white",
             "minorgridcolor": "white",
             "startlinecolor": "#2a3f5f"
            },
            "baxis": {
             "endlinecolor": "#2a3f5f",
             "gridcolor": "white",
             "linecolor": "white",
             "minorgridcolor": "white",
             "startlinecolor": "#2a3f5f"
            },
            "type": "carpet"
           }
          ],
          "choropleth": [
           {
            "colorbar": {
             "outlinewidth": 0,
             "ticks": ""
            },
            "type": "choropleth"
           }
          ],
          "contour": [
           {
            "colorbar": {
             "outlinewidth": 0,
             "ticks": ""
            },
            "colorscale": [
             [
              0,
              "#0d0887"
             ],
             [
              0.1111111111111111,
              "#46039f"
             ],
             [
              0.2222222222222222,
              "#7201a8"
             ],
             [
              0.3333333333333333,
              "#9c179e"
             ],
             [
              0.4444444444444444,
              "#bd3786"
             ],
             [
              0.5555555555555556,
              "#d8576b"
             ],
             [
              0.6666666666666666,
              "#ed7953"
             ],
             [
              0.7777777777777778,
              "#fb9f3a"
             ],
             [
              0.8888888888888888,
              "#fdca26"
             ],
             [
              1,
              "#f0f921"
             ]
            ],
            "type": "contour"
           }
          ],
          "contourcarpet": [
           {
            "colorbar": {
             "outlinewidth": 0,
             "ticks": ""
            },
            "type": "contourcarpet"
           }
          ],
          "heatmap": [
           {
            "colorbar": {
             "outlinewidth": 0,
             "ticks": ""
            },
            "colorscale": [
             [
              0,
              "#0d0887"
             ],
             [
              0.1111111111111111,
              "#46039f"
             ],
             [
              0.2222222222222222,
              "#7201a8"
             ],
             [
              0.3333333333333333,
              "#9c179e"
             ],
             [
              0.4444444444444444,
              "#bd3786"
             ],
             [
              0.5555555555555556,
              "#d8576b"
             ],
             [
              0.6666666666666666,
              "#ed7953"
             ],
             [
              0.7777777777777778,
              "#fb9f3a"
             ],
             [
              0.8888888888888888,
              "#fdca26"
             ],
             [
              1,
              "#f0f921"
             ]
            ],
            "type": "heatmap"
           }
          ],
          "heatmapgl": [
           {
            "colorbar": {
             "outlinewidth": 0,
             "ticks": ""
            },
            "colorscale": [
             [
              0,
              "#0d0887"
             ],
             [
              0.1111111111111111,
              "#46039f"
             ],
             [
              0.2222222222222222,
              "#7201a8"
             ],
             [
              0.3333333333333333,
              "#9c179e"
             ],
             [
              0.4444444444444444,
              "#bd3786"
             ],
             [
              0.5555555555555556,
              "#d8576b"
             ],
             [
              0.6666666666666666,
              "#ed7953"
             ],
             [
              0.7777777777777778,
              "#fb9f3a"
             ],
             [
              0.8888888888888888,
              "#fdca26"
             ],
             [
              1,
              "#f0f921"
             ]
            ],
            "type": "heatmapgl"
           }
          ],
          "histogram": [
           {
            "marker": {
             "pattern": {
              "fillmode": "overlay",
              "size": 10,
              "solidity": 0.2
             }
            },
            "type": "histogram"
           }
          ],
          "histogram2d": [
           {
            "colorbar": {
             "outlinewidth": 0,
             "ticks": ""
            },
            "colorscale": [
             [
              0,
              "#0d0887"
             ],
             [
              0.1111111111111111,
              "#46039f"
             ],
             [
              0.2222222222222222,
              "#7201a8"
             ],
             [
              0.3333333333333333,
              "#9c179e"
             ],
             [
              0.4444444444444444,
              "#bd3786"
             ],
             [
              0.5555555555555556,
              "#d8576b"
             ],
             [
              0.6666666666666666,
              "#ed7953"
             ],
             [
              0.7777777777777778,
              "#fb9f3a"
             ],
             [
              0.8888888888888888,
              "#fdca26"
             ],
             [
              1,
              "#f0f921"
             ]
            ],
            "type": "histogram2d"
           }
          ],
          "histogram2dcontour": [
           {
            "colorbar": {
             "outlinewidth": 0,
             "ticks": ""
            },
            "colorscale": [
             [
              0,
              "#0d0887"
             ],
             [
              0.1111111111111111,
              "#46039f"
             ],
             [
              0.2222222222222222,
              "#7201a8"
             ],
             [
              0.3333333333333333,
              "#9c179e"
             ],
             [
              0.4444444444444444,
              "#bd3786"
             ],
             [
              0.5555555555555556,
              "#d8576b"
             ],
             [
              0.6666666666666666,
              "#ed7953"
             ],
             [
              0.7777777777777778,
              "#fb9f3a"
             ],
             [
              0.8888888888888888,
              "#fdca26"
             ],
             [
              1,
              "#f0f921"
             ]
            ],
            "type": "histogram2dcontour"
           }
          ],
          "mesh3d": [
           {
            "colorbar": {
             "outlinewidth": 0,
             "ticks": ""
            },
            "type": "mesh3d"
           }
          ],
          "parcoords": [
           {
            "line": {
             "colorbar": {
              "outlinewidth": 0,
              "ticks": ""
             }
            },
            "type": "parcoords"
           }
          ],
          "pie": [
           {
            "automargin": true,
            "type": "pie"
           }
          ],
          "scatter": [
           {
            "fillpattern": {
             "fillmode": "overlay",
             "size": 10,
             "solidity": 0.2
            },
            "type": "scatter"
           }
          ],
          "scatter3d": [
           {
            "line": {
             "colorbar": {
              "outlinewidth": 0,
              "ticks": ""
             }
            },
            "marker": {
             "colorbar": {
              "outlinewidth": 0,
              "ticks": ""
             }
            },
            "type": "scatter3d"
           }
          ],
          "scattercarpet": [
           {
            "marker": {
             "colorbar": {
              "outlinewidth": 0,
              "ticks": ""
             }
            },
            "type": "scattercarpet"
           }
          ],
          "scattergeo": [
           {
            "marker": {
             "colorbar": {
              "outlinewidth": 0,
              "ticks": ""
             }
            },
            "type": "scattergeo"
           }
          ],
          "scattergl": [
           {
            "marker": {
             "colorbar": {
              "outlinewidth": 0,
              "ticks": ""
             }
            },
            "type": "scattergl"
           }
          ],
          "scattermapbox": [
           {
            "marker": {
             "colorbar": {
              "outlinewidth": 0,
              "ticks": ""
             }
            },
            "type": "scattermapbox"
           }
          ],
          "scatterpolar": [
           {
            "marker": {
             "colorbar": {
              "outlinewidth": 0,
              "ticks": ""
             }
            },
            "type": "scatterpolar"
           }
          ],
          "scatterpolargl": [
           {
            "marker": {
             "colorbar": {
              "outlinewidth": 0,
              "ticks": ""
             }
            },
            "type": "scatterpolargl"
           }
          ],
          "scatterternary": [
           {
            "marker": {
             "colorbar": {
              "outlinewidth": 0,
              "ticks": ""
             }
            },
            "type": "scatterternary"
           }
          ],
          "surface": [
           {
            "colorbar": {
             "outlinewidth": 0,
             "ticks": ""
            },
            "colorscale": [
             [
              0,
              "#0d0887"
             ],
             [
              0.1111111111111111,
              "#46039f"
             ],
             [
              0.2222222222222222,
              "#7201a8"
             ],
             [
              0.3333333333333333,
              "#9c179e"
             ],
             [
              0.4444444444444444,
              "#bd3786"
             ],
             [
              0.5555555555555556,
              "#d8576b"
             ],
             [
              0.6666666666666666,
              "#ed7953"
             ],
             [
              0.7777777777777778,
              "#fb9f3a"
             ],
             [
              0.8888888888888888,
              "#fdca26"
             ],
             [
              1,
              "#f0f921"
             ]
            ],
            "type": "surface"
           }
          ],
          "table": [
           {
            "cells": {
             "fill": {
              "color": "#EBF0F8"
             },
             "line": {
              "color": "white"
             }
            },
            "header": {
             "fill": {
              "color": "#C8D4E3"
             },
             "line": {
              "color": "white"
             }
            },
            "type": "table"
           }
          ]
         },
         "layout": {
          "annotationdefaults": {
           "arrowcolor": "#2a3f5f",
           "arrowhead": 0,
           "arrowwidth": 1
          },
          "autotypenumbers": "strict",
          "coloraxis": {
           "colorbar": {
            "outlinewidth": 0,
            "ticks": ""
           }
          },
          "colorscale": {
           "diverging": [
            [
             0,
             "#8e0152"
            ],
            [
             0.1,
             "#c51b7d"
            ],
            [
             0.2,
             "#de77ae"
            ],
            [
             0.3,
             "#f1b6da"
            ],
            [
             0.4,
             "#fde0ef"
            ],
            [
             0.5,
             "#f7f7f7"
            ],
            [
             0.6,
             "#e6f5d0"
            ],
            [
             0.7,
             "#b8e186"
            ],
            [
             0.8,
             "#7fbc41"
            ],
            [
             0.9,
             "#4d9221"
            ],
            [
             1,
             "#276419"
            ]
           ],
           "sequential": [
            [
             0,
             "#0d0887"
            ],
            [
             0.1111111111111111,
             "#46039f"
            ],
            [
             0.2222222222222222,
             "#7201a8"
            ],
            [
             0.3333333333333333,
             "#9c179e"
            ],
            [
             0.4444444444444444,
             "#bd3786"
            ],
            [
             0.5555555555555556,
             "#d8576b"
            ],
            [
             0.6666666666666666,
             "#ed7953"
            ],
            [
             0.7777777777777778,
             "#fb9f3a"
            ],
            [
             0.8888888888888888,
             "#fdca26"
            ],
            [
             1,
             "#f0f921"
            ]
           ],
           "sequentialminus": [
            [
             0,
             "#0d0887"
            ],
            [
             0.1111111111111111,
             "#46039f"
            ],
            [
             0.2222222222222222,
             "#7201a8"
            ],
            [
             0.3333333333333333,
             "#9c179e"
            ],
            [
             0.4444444444444444,
             "#bd3786"
            ],
            [
             0.5555555555555556,
             "#d8576b"
            ],
            [
             0.6666666666666666,
             "#ed7953"
            ],
            [
             0.7777777777777778,
             "#fb9f3a"
            ],
            [
             0.8888888888888888,
             "#fdca26"
            ],
            [
             1,
             "#f0f921"
            ]
           ]
          },
          "colorway": [
           "#636efa",
           "#EF553B",
           "#00cc96",
           "#ab63fa",
           "#FFA15A",
           "#19d3f3",
           "#FF6692",
           "#B6E880",
           "#FF97FF",
           "#FECB52"
          ],
          "font": {
           "color": "#2a3f5f"
          },
          "geo": {
           "bgcolor": "white",
           "lakecolor": "white",
           "landcolor": "#E5ECF6",
           "showlakes": true,
           "showland": true,
           "subunitcolor": "white"
          },
          "hoverlabel": {
           "align": "left"
          },
          "hovermode": "closest",
          "mapbox": {
           "style": "light"
          },
          "paper_bgcolor": "white",
          "plot_bgcolor": "#E5ECF6",
          "polar": {
           "angularaxis": {
            "gridcolor": "white",
            "linecolor": "white",
            "ticks": ""
           },
           "bgcolor": "#E5ECF6",
           "radialaxis": {
            "gridcolor": "white",
            "linecolor": "white",
            "ticks": ""
           }
          },
          "scene": {
           "xaxis": {
            "backgroundcolor": "#E5ECF6",
            "gridcolor": "white",
            "gridwidth": 2,
            "linecolor": "white",
            "showbackground": true,
            "ticks": "",
            "zerolinecolor": "white"
           },
           "yaxis": {
            "backgroundcolor": "#E5ECF6",
            "gridcolor": "white",
            "gridwidth": 2,
            "linecolor": "white",
            "showbackground": true,
            "ticks": "",
            "zerolinecolor": "white"
           },
           "zaxis": {
            "backgroundcolor": "#E5ECF6",
            "gridcolor": "white",
            "gridwidth": 2,
            "linecolor": "white",
            "showbackground": true,
            "ticks": "",
            "zerolinecolor": "white"
           }
          },
          "shapedefaults": {
           "line": {
            "color": "#2a3f5f"
           }
          },
          "ternary": {
           "aaxis": {
            "gridcolor": "white",
            "linecolor": "white",
            "ticks": ""
           },
           "baxis": {
            "gridcolor": "white",
            "linecolor": "white",
            "ticks": ""
           },
           "bgcolor": "#E5ECF6",
           "caxis": {
            "gridcolor": "white",
            "linecolor": "white",
            "ticks": ""
           }
          },
          "title": {
           "x": 0.05
          },
          "xaxis": {
           "automargin": true,
           "gridcolor": "white",
           "linecolor": "white",
           "ticks": "",
           "title": {
            "standoff": 15
           },
           "zerolinecolor": "white",
           "zerolinewidth": 2
          },
          "yaxis": {
           "automargin": true,
           "gridcolor": "white",
           "linecolor": "white",
           "ticks": "",
           "title": {
            "standoff": 15
           },
           "zerolinecolor": "white",
           "zerolinewidth": 2
          }
         }
        },
        "xaxis": {
         "anchor": "y",
         "domain": [
          0,
          1
         ],
         "title": {
          "text": "Distance (MPC)"
         }
        },
        "yaxis": {
         "anchor": "x",
         "domain": [
          0,
          1
         ],
         "title": {
          "text": "Velocity (Km/s)"
         }
        }
       }
      }
     },
     "metadata": {},
     "output_type": "display_data"
    }
   ],
   "source": [
    "from astroquery.ipac.ned import Ned\n",
    "import numpy as np\n",
    "import os\n",
    "import urllib.request\n",
    "from astroquery.gaia import Gaia\n",
    "from astropy import log\n",
    "import pandas as pd\n",
    "import os\n",
    "import glob\n",
    "import numpy as np\n",
    "import importlib\n",
    "from matplotlib import colors\n",
    "import matplotlib.pyplot as plt\n",
    "import plotly.express as px\n",
    "import plotly.graph_objects as go\n",
    "\n",
    "def fit_line(x, y):\n",
    "    # given one dimensional x and y vectors - return x and y for fitting a line on top of the regression\n",
    "    # inspired by the numpy manual - https://docs.scipy.org/doc/numpy/reference/generated/numpy.linalg.lstsq.html \n",
    "    x = x.to_numpy() # convert into numpy arrays\n",
    "    y = y.to_numpy() # convert into numpy arrays\n",
    "\n",
    "    A = np.vstack([x, np.ones(len(x))]).T # sent the design matrix using the intercepts\n",
    "    m, c = np.linalg.lstsq(A, y, rcond=None)[0]\n",
    "\n",
    "    return m, c\n",
    "\n",
    "hubble_objs = { \"S. Mag\", \"L. Mag\",\n",
    " \"NGC 278\", \"NGC 404\", \"NGC 584\", \"NGC 936\", \"NGC 1023\", \"NGC 1700\", \"NGC 2681\", \"NGC 2683\", \"NGC 2841\", \n",
    " \"NGC 3034\", \"NGC 3115\", \"NGC 3368\", \"NGC 3379\", \"NGC 3489\", \"NGC 3521\", \"NGC 3623\", \"NGC 4111\", \"NGC 4526\",\n",
    " \"NGC 4565\", \"NGC 4594\", \"NGC 5005\", \"NGC 5866\",\n",
    " \"NGC 6822\", \"NGC 598\", \"NGC 221\", \"NGC 224\", \n",
    "    \"NGC 5457\", \"NGC 4736\", \"NGC 5194\", \"NGC 4449\", \"NGC 4214\", \"NGC 3031\", \"NGC 3627\",\n",
    "    \"NGC 4826\", \"NGC 5236\", \"NGC 1068\", \"NGC 5055\", \"NGC 7331\", \"NGC 4258\", \"NGC 4151\",\n",
    "    \"NGC 4382\", \"NGC 4472\", \"NGC 4486\", \"NGC 4649\" }\n",
    "\n",
    "print(\"Rows: {}\".format(len(hubble_objs)))\n",
    "distances = pd.read_csv(\"NED-D.csv\")\n",
    "\n",
    "def get_obj(m):\n",
    "    try:\n",
    "        obj_data = Ned.query_object(m).to_pandas().iloc[0]\n",
    "\n",
    "        d = distances.loc[distances['ID'] == obj_data['Object Name']]\n",
    "        if d.empty:\n",
    "            return None\n",
    "        mpc = d.sort_values(by=['Error']).iloc[0]['MPC']\n",
    "\n",
    "        return pd.DataFrame([[obj_data['Object Name'], obj_data['Velocity'], mpc]], columns=['Name', 'Velocity', 'MPC'])\n",
    "    except:\n",
    "        return None\n",
    "\n",
    "if False:\n",
    "    i = 0\n",
    "    step = 50\n",
    "    while i < 9999:\n",
    "        file_name = \"data/obj_{}_{}.csv\".format(i, i+step)\n",
    "        if os.path.isfile(file_name):\n",
    "            log.info(\"Skipping: \" + file_name)\n",
    "        else:\n",
    "            log.info(\"Downloading data for: \" + file_name)\n",
    "            objects = []\n",
    "            for y in range(i, i+step):\n",
    "                objects.append(\"NGC {}\".format(y))\n",
    "\n",
    "            try:\n",
    "                data = pd.concat(mo for obj in objects if (mo:=get_obj(obj)) is not None)\n",
    "                data.to_csv(file_name)\n",
    "            except:\n",
    "                {}\n",
    "\n",
    "        i = i + step\n",
    "\n",
    "\n",
    "    # Grab the previously calculated results\n",
    "    data = pd.concat(pd.read_csv(f) for f in glob.glob(\"data/obj_*.csv\"))\n",
    "    data.dropna()\n",
    "    data = data[data['MPC'] > 0]\n",
    "    data = data[data['MPC'] < 100]\n",
    "    data = data[data['Velocity'] > 0]\n",
    "else:\n",
    "    data = pd.concat(mo for obj in hubble_objs if (mo:=get_obj(obj)) is not None)\n",
    "\n",
    "data.Velocity = data.Velocity.abs()\n",
    "\n",
    "#display(data)\n",
    "\n",
    "# plot the data as a scatter plot\n",
    "fig = px.scatter(x=data['MPC'], y=data['Velocity'], opacity=.5, labels={\"x\" : \"Distance (MPC)\", \"y\" : \"Velocity (Km/s)\"}) \n",
    "\n",
    "# fit a linear model \n",
    "m, c = fit_line(x = data['MPC'], y = data['Velocity'])\n",
    "\n",
    "# add the linear fit on top\n",
    "fig.add_trace(\n",
    "    go.Scatter(\n",
    "        x=data['MPC'],\n",
    "        y=m*data['MPC'] + c,\n",
    "        mode=\"lines\",\n",
    "        line=go.scatter.Line(color=\"red\"),\n",
    "        showlegend=False)\n",
    ")\n",
    "# optionally you can show the slop and the intercept \n",
    "mid_point = data['MPC'].mean()\n",
    "fig.update_layout(\n",
    "    showlegend=False,\n",
    "    annotations=[\n",
    "        go.layout.Annotation(\n",
    "            x=mid_point,\n",
    "            y=m*mid_point + c,\n",
    "            xref=\"x\",\n",
    "            yref=\"y\",\n",
    "            text=str(round(m, 4))+'x+'+str(round(c, 2)) ,\n",
    "        )\n",
    "    ]\n",
    ")\n",
    "fig.show()\n",
    "#fig.write_image('hubble_constant.png')"
   ]
  },
  {
   "cell_type": "code",
   "execution_count": null,
   "metadata": {},
   "outputs": [],
   "source": []
  }
 ],
 "metadata": {
  "kernelspec": {
   "display_name": "Python 3.10.8 64-bit",
   "language": "python",
   "name": "python3"
  },
  "language_info": {
   "codemirror_mode": {
    "name": "ipython",
    "version": 3
   },
   "file_extension": ".py",
   "mimetype": "text/x-python",
   "name": "python",
   "nbconvert_exporter": "python",
   "pygments_lexer": "ipython3",
   "version": "3.10.8"
  },
  "orig_nbformat": 4,
  "vscode": {
   "interpreter": {
    "hash": "26de051ba29f2982a8de78e945f0abaf191376122a1563185a90213a26c5da77"
   }
  }
 },
 "nbformat": 4,
 "nbformat_minor": 2
}
